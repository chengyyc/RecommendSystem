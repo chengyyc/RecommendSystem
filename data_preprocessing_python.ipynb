{
 "cells": [
  {
   "cell_type": "code",
   "execution_count": 1,
   "metadata": {},
   "outputs": [],
   "source": [
    "import numpy as np\n",
    "import pandas as pd\n",
    "import matplotlib.pyplot as plt\n",
    "import seaborn as sns"
   ]
  },
  {
   "cell_type": "code",
   "execution_count": 2,
   "metadata": {},
   "outputs": [
    {
     "name": "stderr",
     "output_type": "stream",
     "text": [
      "C:\\Users\\yingy\\AppData\\Local\\Continuum\\anaconda3\\lib\\site-packages\\IPython\\core\\interactiveshell.py:3057: DtypeWarning: Columns (5,8,11,15) have mixed types. Specify dtype option on import or set low_memory=False.\n",
      "  interactivity=interactivity, compiler=compiler, result=result)\n"
     ]
    }
   ],
   "source": [
    "# Import data.\n",
    "\n",
    "mydata = pd.read_csv(\"C:/Users/yingy/Desktop/life/ms study/math/5330 Data Mining/project/data/train_ver2.csv\", \n",
    "                     dtype = {\"sexo\": str, \"ind_nuevo\": str, \"ult_fec_cli_1t\": str, \"indext\": str})"
   ]
  },
  {
   "cell_type": "code",
   "execution_count": 3,
   "metadata": {},
   "outputs": [
    {
     "name": "stdout",
     "output_type": "stream",
     "text": [
      "(13647309, 48)\n",
      "956645\n"
     ]
    }
   ],
   "source": [
    "# There are around 14 million records, with around 1 million virtual customers.\n",
    "# There are together 48 variables for each record: the first 24 are demographic information; the following 24 are each client’s product purchase history.\n",
    "\n",
    "print(mydata.shape)\n",
    "print(len(mydata[\"ncodpers\"].unique()))"
   ]
  },
  {
   "cell_type": "code",
   "execution_count": 4,
   "metadata": {},
   "outputs": [
    {
     "data": {
      "text/html": [
       "<div>\n",
       "<style scoped>\n",
       "    .dataframe tbody tr th:only-of-type {\n",
       "        vertical-align: middle;\n",
       "    }\n",
       "\n",
       "    .dataframe tbody tr th {\n",
       "        vertical-align: top;\n",
       "    }\n",
       "\n",
       "    .dataframe thead th {\n",
       "        text-align: right;\n",
       "    }\n",
       "</style>\n",
       "<table border=\"1\" class=\"dataframe\">\n",
       "  <thead>\n",
       "    <tr style=\"text-align: right;\">\n",
       "      <th></th>\n",
       "      <th>fecha_dato</th>\n",
       "      <th>ncodpers</th>\n",
       "      <th>ind_empleado</th>\n",
       "      <th>pais_residencia</th>\n",
       "      <th>sexo</th>\n",
       "      <th>age</th>\n",
       "      <th>fecha_alta</th>\n",
       "      <th>ind_nuevo</th>\n",
       "      <th>antiguedad</th>\n",
       "      <th>indrel</th>\n",
       "      <th>...</th>\n",
       "      <th>ind_hip_fin_ult1</th>\n",
       "      <th>ind_plan_fin_ult1</th>\n",
       "      <th>ind_pres_fin_ult1</th>\n",
       "      <th>ind_reca_fin_ult1</th>\n",
       "      <th>ind_tjcr_fin_ult1</th>\n",
       "      <th>ind_valo_fin_ult1</th>\n",
       "      <th>ind_viv_fin_ult1</th>\n",
       "      <th>ind_nomina_ult1</th>\n",
       "      <th>ind_nom_pens_ult1</th>\n",
       "      <th>ind_recibo_ult1</th>\n",
       "    </tr>\n",
       "  </thead>\n",
       "  <tbody>\n",
       "    <tr>\n",
       "      <th>0</th>\n",
       "      <td>2015-01-28</td>\n",
       "      <td>1375586</td>\n",
       "      <td>N</td>\n",
       "      <td>ES</td>\n",
       "      <td>H</td>\n",
       "      <td>35</td>\n",
       "      <td>2015-01-12</td>\n",
       "      <td>0</td>\n",
       "      <td>6</td>\n",
       "      <td>1.0</td>\n",
       "      <td>...</td>\n",
       "      <td>0</td>\n",
       "      <td>0</td>\n",
       "      <td>0</td>\n",
       "      <td>0</td>\n",
       "      <td>0</td>\n",
       "      <td>0</td>\n",
       "      <td>0</td>\n",
       "      <td>0.0</td>\n",
       "      <td>0.0</td>\n",
       "      <td>0</td>\n",
       "    </tr>\n",
       "    <tr>\n",
       "      <th>1</th>\n",
       "      <td>2015-01-28</td>\n",
       "      <td>1050611</td>\n",
       "      <td>N</td>\n",
       "      <td>ES</td>\n",
       "      <td>V</td>\n",
       "      <td>23</td>\n",
       "      <td>2012-08-10</td>\n",
       "      <td>0</td>\n",
       "      <td>35</td>\n",
       "      <td>1.0</td>\n",
       "      <td>...</td>\n",
       "      <td>0</td>\n",
       "      <td>0</td>\n",
       "      <td>0</td>\n",
       "      <td>0</td>\n",
       "      <td>0</td>\n",
       "      <td>0</td>\n",
       "      <td>0</td>\n",
       "      <td>0.0</td>\n",
       "      <td>0.0</td>\n",
       "      <td>0</td>\n",
       "    </tr>\n",
       "    <tr>\n",
       "      <th>2</th>\n",
       "      <td>2015-01-28</td>\n",
       "      <td>1050612</td>\n",
       "      <td>N</td>\n",
       "      <td>ES</td>\n",
       "      <td>V</td>\n",
       "      <td>23</td>\n",
       "      <td>2012-08-10</td>\n",
       "      <td>0</td>\n",
       "      <td>35</td>\n",
       "      <td>1.0</td>\n",
       "      <td>...</td>\n",
       "      <td>0</td>\n",
       "      <td>0</td>\n",
       "      <td>0</td>\n",
       "      <td>0</td>\n",
       "      <td>0</td>\n",
       "      <td>0</td>\n",
       "      <td>0</td>\n",
       "      <td>0.0</td>\n",
       "      <td>0.0</td>\n",
       "      <td>0</td>\n",
       "    </tr>\n",
       "    <tr>\n",
       "      <th>3</th>\n",
       "      <td>2015-01-28</td>\n",
       "      <td>1050613</td>\n",
       "      <td>N</td>\n",
       "      <td>ES</td>\n",
       "      <td>H</td>\n",
       "      <td>22</td>\n",
       "      <td>2012-08-10</td>\n",
       "      <td>0</td>\n",
       "      <td>35</td>\n",
       "      <td>1.0</td>\n",
       "      <td>...</td>\n",
       "      <td>0</td>\n",
       "      <td>0</td>\n",
       "      <td>0</td>\n",
       "      <td>0</td>\n",
       "      <td>0</td>\n",
       "      <td>0</td>\n",
       "      <td>0</td>\n",
       "      <td>0.0</td>\n",
       "      <td>0.0</td>\n",
       "      <td>0</td>\n",
       "    </tr>\n",
       "    <tr>\n",
       "      <th>4</th>\n",
       "      <td>2015-01-28</td>\n",
       "      <td>1050614</td>\n",
       "      <td>N</td>\n",
       "      <td>ES</td>\n",
       "      <td>V</td>\n",
       "      <td>23</td>\n",
       "      <td>2012-08-10</td>\n",
       "      <td>0</td>\n",
       "      <td>35</td>\n",
       "      <td>1.0</td>\n",
       "      <td>...</td>\n",
       "      <td>0</td>\n",
       "      <td>0</td>\n",
       "      <td>0</td>\n",
       "      <td>0</td>\n",
       "      <td>0</td>\n",
       "      <td>0</td>\n",
       "      <td>0</td>\n",
       "      <td>0.0</td>\n",
       "      <td>0.0</td>\n",
       "      <td>0</td>\n",
       "    </tr>\n",
       "  </tbody>\n",
       "</table>\n",
       "<p>5 rows × 48 columns</p>\n",
       "</div>"
      ],
      "text/plain": [
       "   fecha_dato  ncodpers ind_empleado pais_residencia sexo  age  fecha_alta  \\\n",
       "0  2015-01-28   1375586            N              ES    H   35  2015-01-12   \n",
       "1  2015-01-28   1050611            N              ES    V   23  2012-08-10   \n",
       "2  2015-01-28   1050612            N              ES    V   23  2012-08-10   \n",
       "3  2015-01-28   1050613            N              ES    H   22  2012-08-10   \n",
       "4  2015-01-28   1050614            N              ES    V   23  2012-08-10   \n",
       "\n",
       "  ind_nuevo antiguedad  indrel  ... ind_hip_fin_ult1 ind_plan_fin_ult1  \\\n",
       "0         0          6     1.0  ...                0                 0   \n",
       "1         0         35     1.0  ...                0                 0   \n",
       "2         0         35     1.0  ...                0                 0   \n",
       "3         0         35     1.0  ...                0                 0   \n",
       "4         0         35     1.0  ...                0                 0   \n",
       "\n",
       "  ind_pres_fin_ult1 ind_reca_fin_ult1 ind_tjcr_fin_ult1 ind_valo_fin_ult1  \\\n",
       "0                 0                 0                 0                 0   \n",
       "1                 0                 0                 0                 0   \n",
       "2                 0                 0                 0                 0   \n",
       "3                 0                 0                 0                 0   \n",
       "4                 0                 0                 0                 0   \n",
       "\n",
       "  ind_viv_fin_ult1 ind_nomina_ult1  ind_nom_pens_ult1  ind_recibo_ult1  \n",
       "0                0             0.0                0.0                0  \n",
       "1                0             0.0                0.0                0  \n",
       "2                0             0.0                0.0                0  \n",
       "3                0             0.0                0.0                0  \n",
       "4                0             0.0                0.0                0  \n",
       "\n",
       "[5 rows x 48 columns]"
      ]
     },
     "execution_count": 4,
     "metadata": {},
     "output_type": "execute_result"
    }
   ],
   "source": [
    "mydata.head(5)"
   ]
  },
  {
   "cell_type": "code",
   "execution_count": 5,
   "metadata": {
    "scrolled": true
   },
   "outputs": [
    {
     "data": {
      "text/plain": [
       "fecha_dato                0.000000\n",
       "ncodpers                  0.000000\n",
       "ind_empleado              0.203220\n",
       "pais_residencia           0.203220\n",
       "sexo                      0.203732\n",
       "age                       0.000000\n",
       "fecha_alta                0.203220\n",
       "ind_nuevo                 0.203220\n",
       "antiguedad                0.000000\n",
       "indrel                    0.203220\n",
       "ult_fec_cli_1t           99.818330\n",
       "indrel_1mes               1.097513\n",
       "tiprel_1mes               1.097513\n",
       "indresi                   0.203220\n",
       "indext                    0.203220\n",
       "conyuemp                 99.986752\n",
       "canal_entrada             1.363829\n",
       "indfall                   0.203220\n",
       "tipodom                   0.203227\n",
       "cod_prov                  0.685784\n",
       "nomprov                   0.685784\n",
       "ind_actividad_cliente     0.203220\n",
       "renta                    20.475648\n",
       "segmento                  1.387585\n",
       "ind_ahor_fin_ult1         0.000000\n",
       "ind_aval_fin_ult1         0.000000\n",
       "ind_cco_fin_ult1          0.000000\n",
       "ind_cder_fin_ult1         0.000000\n",
       "ind_cno_fin_ult1          0.000000\n",
       "ind_ctju_fin_ult1         0.000000\n",
       "ind_ctma_fin_ult1         0.000000\n",
       "ind_ctop_fin_ult1         0.000000\n",
       "ind_ctpp_fin_ult1         0.000000\n",
       "ind_deco_fin_ult1         0.000000\n",
       "ind_deme_fin_ult1         0.000000\n",
       "ind_dela_fin_ult1         0.000000\n",
       "ind_ecue_fin_ult1         0.000000\n",
       "ind_fond_fin_ult1         0.000000\n",
       "ind_hip_fin_ult1          0.000000\n",
       "ind_plan_fin_ult1         0.000000\n",
       "ind_pres_fin_ult1         0.000000\n",
       "ind_reca_fin_ult1         0.000000\n",
       "ind_tjcr_fin_ult1         0.000000\n",
       "ind_valo_fin_ult1         0.000000\n",
       "ind_viv_fin_ult1          0.000000\n",
       "ind_nomina_ult1           0.117701\n",
       "ind_nom_pens_ult1         0.117701\n",
       "ind_recibo_ult1           0.000000\n",
       "dtype: float64"
      ]
     },
     "execution_count": 5,
     "metadata": {},
     "output_type": "execute_result"
    }
   ],
   "source": [
    "# Calculate proportion of missing data in each column.\n",
    "# Notice that, the missings may not be found for some columns due to the way of encoding.\n",
    "\n",
    "mydata.isnull().mean() * 100"
   ]
  },
  {
   "cell_type": "markdown",
   "metadata": {},
   "source": [
    "Next, let's look at the first 24 variables one by one. \n",
    "- For some we may conduct some processing - change the type of data, do some EDA, impute missings, and so on. \n",
    "- For the other we just demonstrate what they look like.\n",
    "\n",
    "In the implementation of SVD and XGBoost, we may apply some slightly different ways to process data."
   ]
  },
  {
   "cell_type": "code",
   "execution_count": 6,
   "metadata": {},
   "outputs": [
    {
     "data": {
      "text/plain": [
       "array(['2015-01-28', '2015-02-28', '2015-03-28', '2015-04-28',\n",
       "       '2015-05-28', '2015-06-28', '2015-07-28', '2015-08-28',\n",
       "       '2015-09-28', '2015-10-28', '2015-11-28', '2015-12-28',\n",
       "       '2016-01-28', '2016-02-28', '2016-03-28', '2016-04-28',\n",
       "       '2016-05-28'], dtype=object)"
      ]
     },
     "execution_count": 6,
     "metadata": {},
     "output_type": "execute_result"
    }
   ],
   "source": [
    "# (1) \"fecha_dato\": no missing.\n",
    "# Date, range from 2015-01-28 to 2016-05-28.\n",
    "\n",
    "mydata[\"fecha_dato\"].unique()"
   ]
  },
  {
   "cell_type": "code",
   "execution_count": 7,
   "metadata": {},
   "outputs": [
    {
     "data": {
      "text/plain": [
       "956645"
      ]
     },
     "execution_count": 7,
     "metadata": {},
     "output_type": "execute_result"
    }
   ],
   "source": [
    "# (2) \"ncodpers\": no missing.\n",
    "# Customer code, 956645 customers in total.\n",
    "\n",
    "len(mydata[\"ncodpers\"].unique())"
   ]
  },
  {
   "cell_type": "code",
   "execution_count": 8,
   "metadata": {},
   "outputs": [
    {
     "data": {
      "text/plain": [
       "array(['N', nan, 'A', 'B', 'F', 'S'], dtype=object)"
      ]
     },
     "execution_count": 8,
     "metadata": {},
     "output_type": "execute_result"
    }
   ],
   "source": [
    "# (3) ind_empleado: 0.203220 missing. \n",
    "# Employee index, A active, B ex employed, F filial, N not employee, P pasive.\n",
    "\n",
    "mydata['ind_empleado'].unique()"
   ]
  },
  {
   "cell_type": "code",
   "execution_count": 9,
   "metadata": {},
   "outputs": [
    {
     "data": {
      "text/plain": [
       "N    0.999369\n",
       "B    0.000262\n",
       "F    0.000185\n",
       "A    0.000183\n",
       "S    0.000001\n",
       "Name: ind_empleado, dtype: float64"
      ]
     },
     "execution_count": 9,
     "metadata": {},
     "output_type": "execute_result"
    }
   ],
   "source": [
    "mydata['ind_empleado'].value_counts(normalize=True)"
   ]
  },
  {
   "cell_type": "markdown",
   "metadata": {},
   "source": [
    "We can notice that, 0.203220 is a common missing proportion, occuring in many columns. After exploring, we find that these correspond to the same rows, which may represent some new customers. Thus, there are two ways of imputing.\n",
    "\n",
    "- Treat them as a different category, and assign them a different type/number.\n",
    "- Treat them as new customers (which is our assumption), and assign them the value related to new customer. For example, for 8th variable \"ind_nuevo\" representing whether new customer or not, we can assign them \"1\". And for 3rd varible 'ind_empleado', we can assign them 'N' since we may believe they are not employees."
   ]
  },
  {
   "cell_type": "code",
   "execution_count": 10,
   "metadata": {
    "scrolled": true
   },
   "outputs": [
    {
     "data": {
      "text/plain": [
       "array(['ES', nan, 'CA', 'CH', 'CL', 'IE', 'AT', 'NL', 'FR', 'GB', 'DE',\n",
       "       'DO', 'BE', 'AR', 'VE', 'US', 'MX', 'BR', 'IT', 'EC', 'PE', 'CO',\n",
       "       'HN', 'FI', 'SE', 'AL', 'PT', 'MZ', 'CN', 'TW', 'PL', 'IN', 'CR',\n",
       "       'NI', 'HK', 'AD', 'CZ', 'AE', 'MA', 'GR', 'PR', 'RO', 'IL', 'RU',\n",
       "       'GT', 'GA', 'NO', 'SN', 'MR', 'UA', 'BG', 'PY', 'EE', 'SV', 'ET',\n",
       "       'CM', 'SA', 'CI', 'QA', 'LU', 'PA', 'BA', 'BO', 'AU', 'BY', 'KE',\n",
       "       'SG', 'HR', 'MD', 'SK', 'TR', 'AO', 'CU', 'GQ', 'EG', 'ZA', 'DK',\n",
       "       'UY', 'GE', 'TH', 'DZ', 'LB', 'JP', 'NG', 'PK', 'TN', 'TG', 'KR',\n",
       "       'GH', 'RS', 'VN', 'PH', 'KW', 'NZ', 'MM', 'KH', 'GI', 'SL', 'GN',\n",
       "       'GW', 'OM', 'CG', 'LV', 'LT', 'ML', 'MK', 'HU', 'IS', 'LY', 'CF',\n",
       "       'GM', 'KZ', 'CD', 'BZ', 'ZW', 'DJ', 'JM', 'BM', 'MT'], dtype=object)"
      ]
     },
     "execution_count": 10,
     "metadata": {},
     "output_type": "execute_result"
    }
   ],
   "source": [
    "# (4) \"pais_residencia\": 0.203220 missing.\n",
    "# Customer's country residence.\n",
    "\n",
    "mydata['pais_residencia'].unique()"
   ]
  },
  {
   "cell_type": "code",
   "execution_count": 11,
   "metadata": {},
   "outputs": [
    {
     "data": {
      "text/plain": [
       "ES    0.995164\n",
       "FR    0.000379\n",
       "AR    0.000355\n",
       "DE    0.000340\n",
       "GB    0.000338\n",
       "Name: pais_residencia, dtype: float64"
      ]
     },
     "execution_count": 11,
     "metadata": {},
     "output_type": "execute_result"
    }
   ],
   "source": [
    "# Most customers reside in ES (over 99.5%).\n",
    "\n",
    "mydata['pais_residencia'].value_counts(normalize=True).head(5)"
   ]
  },
  {
   "cell_type": "code",
   "execution_count": 12,
   "metadata": {},
   "outputs": [
    {
     "name": "stdout",
     "output_type": "stream",
     "text": [
      "['H' 'V' nan]\n"
     ]
    },
    {
     "data": {
      "text/plain": [
       "V    0.545119\n",
       "H    0.454881\n",
       "Name: sexo, dtype: float64"
      ]
     },
     "execution_count": 12,
     "metadata": {},
     "output_type": "execute_result"
    }
   ],
   "source": [
    "# (5) \"sexo\": 0.203732 missing.\n",
    "# Customer's sex.\n",
    "\n",
    "print(mydata['sexo'].unique())\n",
    "mydata['sexo'].value_counts(normalize=True)"
   ]
  },
  {
   "cell_type": "code",
   "execution_count": 13,
   "metadata": {
    "scrolled": true
   },
   "outputs": [
    {
     "data": {
      "text/plain": [
       "array([ 35.,  23.,  22.,  24.,  65.,  28.,  25.,  26.,  53.,  27.,  32.,\n",
       "        37.,  31.,  39.,  63.,  33.,  55.,  42.,  58.,  38.,  50.,  30.,\n",
       "        45.,  44.,  36.,  29.,  60.,  57.,  67.,  47.,  nan,  34.,  48.,\n",
       "        46.,  54.,  84.,  15.,  12.,   8.,   6.,  83.,  40.,  77.,  69.,\n",
       "        52.,  59.,  43.,  10.,   9.,  49.,  41.,  51.,  78.,  16.,  11.,\n",
       "        73.,  62.,  66.,  17.,  68.,  82.,  95.,  96.,  56.,  61.,  79.,\n",
       "        72.,  14.,  19.,  13.,  86.,  64.,  20.,  89.,  71.,   7.,  70.,\n",
       "        74.,  21.,  18.,  75.,   4.,  80.,  81.,   5.,  76.,  92.,  93.,\n",
       "        85.,  91.,  87.,  90.,  94.,  99.,  98.,  88.,  97., 100., 101.,\n",
       "       106., 103.,   3.,   2., 102., 104., 111., 107., 109., 105., 112.,\n",
       "       115., 110., 116., 108., 113., 126., 117., 163., 127., 114., 164.])"
      ]
     },
     "execution_count": 13,
     "metadata": {},
     "output_type": "execute_result"
    }
   ],
   "source": [
    "# (6) \"age\": showing no missing, but actually with NA.\n",
    "# First transform to numbers, will turn NA into nan and then we can recognize missing values.\n",
    "\n",
    "mydata['age'] = pd.to_numeric(mydata[\"age\"], errors=\"coerce\")\n",
    "mydata['age'].unique()"
   ]
  },
  {
   "cell_type": "code",
   "execution_count": 14,
   "metadata": {},
   "outputs": [
    {
     "data": {
      "image/png": "[encoded data removed]",
      "text/plain": [
       "<Figure size 432x288 with 1 Axes>"
      ]
     },
     "metadata": {
      "needs_background": "light"
     },
     "output_type": "display_data"
    }
   ],
   "source": [
    "# Plot histogram of Age.\n",
    "\n",
    "plt.hist(mydata['age'].dropna(), bins=80, color='skyblue', edgecolor='black')\n",
    " \n",
    "plt.xlabel('Age')               # Adding labels and title.\n",
    "plt.ylabel('Count')\n",
    "plt.title('Age Distribution')\n",
    "\n",
    "plt.show()                         # Display the plot."
   ]
  },
  {
   "cell_type": "code",
   "execution_count": 15,
   "metadata": {},
   "outputs": [],
   "source": [
    "# We impute the missing with mean value (40).\n",
    "# We also set a range of age, and round ages outside the range to its nearset bound.\n",
    "\n",
    "mydata['age'].fillna(40, inplace=True)\n",
    "mydata.loc[mydata.age < 15,'age']  = 15\n",
    "mydata.loc[mydata.age > 100,'age'] = 100                                                        \n",
    "mydata['age'] = mydata['age'].astype(int)"
   ]
  },
  {
   "cell_type": "code",
   "execution_count": 16,
   "metadata": {},
   "outputs": [
    {
     "data": {
      "image/png": "[encoded data removed]",
      "text/plain": [
       "<Figure size 432x288 with 1 Axes>"
      ]
     },
     "metadata": {
      "needs_background": "light"
     },
     "output_type": "display_data"
    }
   ],
   "source": [
    "# Plotting histogram of Age after processing.\n",
    "\n",
    "plt.hist(mydata['age'], bins=80, color='skyblue', edgecolor='black')\n",
    " \n",
    "plt.xlabel('Age')               # Adding labels and title.\n",
    "plt.ylabel('Count')\n",
    "plt.title('Age Distribution')\n",
    "\n",
    "plt.show()                         # Display the plot."
   ]
  },
  {
   "cell_type": "code",
   "execution_count": 17,
   "metadata": {},
   "outputs": [
    {
     "data": {
      "text/plain": [
       "array(['2015-01-12', '2012-08-10', nan, ..., '2016-05-25', '2016-05-01',\n",
       "       '2016-05-15'], dtype=object)"
      ]
     },
     "execution_count": 17,
     "metadata": {},
     "output_type": "execute_result"
    }
   ],
   "source": [
    "# (7) \"fecha_alta\": 0.203220 missing.\n",
    "# The date in which the customer became as the first holder of a contract in the bank.\n",
    "# For now, we do little with variable in the form of date.\n",
    "\n",
    "mydata['fecha_alta'].unique()"
   ]
  },
  {
   "cell_type": "code",
   "execution_count": 18,
   "metadata": {
    "scrolled": true
   },
   "outputs": [
    {
     "data": {
      "text/plain": [
       "array([' 0', nan, ' 1'], dtype=object)"
      ]
     },
     "execution_count": 18,
     "metadata": {},
     "output_type": "execute_result"
    }
   ],
   "source": [
    "# (8) \"ind_nuevo\" : 0.203220 missing.\n",
    "# New customer Index. 1 if the customer registered in the last 6 months.\n",
    "# Notice that all missings are new customers, so replace accordingly.\n",
    "\n",
    "mydata['ind_nuevo'].unique()"
   ]
  },
  {
   "cell_type": "code",
   "execution_count": 19,
   "metadata": {},
   "outputs": [
    {
     "data": {
      "text/plain": [
       "array([' 0', ' 1'], dtype=object)"
      ]
     },
     "execution_count": 19,
     "metadata": {},
     "output_type": "execute_result"
    }
   ],
   "source": [
    "mydata['ind_nuevo'].fillna(' 1', inplace=True)\n",
    "mydata['ind_nuevo'].unique()"
   ]
  },
  {
   "cell_type": "code",
   "execution_count": 20,
   "metadata": {},
   "outputs": [
    {
     "data": {
      "text/plain": [
       "array(['      6', '     35', '     34', '     NA', '     33', '     31',\n",
       "       '     21', '     16', '     27', '      9', '     22', '     13',\n",
       "       '     29', '      8', '     11', '     10', '     28', '     24',\n",
       "       '      7', '     25', '     14', '     26', '     12', '     23',\n",
       "       '      1', '     18', '      4', '      3', '     17', '     32',\n",
       "       '     30', '     20', '     15', '     19', '    157', '     36',\n",
       "       '      5', '     40', '     38', '     37', '     39', '      0',\n",
       "       '      2', '     47', '     44', '     42', '     46', '     45',\n",
       "       '     43', '     41', '     57', '     48', '     52', '     49',\n",
       "       '     50', '     56', '     58', '     51', '     55', '     54',\n",
       "       '     53', '     59', '     62', '     61', '     60', '     63',\n",
       "       '    139', '    165', '    118', '    164', '    142', '     94',\n",
       "       '    159', '    143', '    105', '    151', '    162', '    137',\n",
       "       '    150', '    128', '    122', '    156', '    119', '    160',\n",
       "       '     79', '     95', '    132', '    161', '     98', '    127',\n",
       "       '     72', '    155', '    108', '    163', '    102', '    148',\n",
       "       '    115', '    146', '    107', '     81', '    216', '    135',\n",
       "       '     92', '    121', '    198', '    134', '     93', '    140',\n",
       "       '    110', '    120', '    147', '    116', '     64', '     77',\n",
       "       '     85', '     99', '     78', '    100', '    113', '    154',\n",
       "       '    166', '    133', '    124', '    141', '     66', '    117',\n",
       "       '     86', '    193', '     80', '    144', '     87', '    126',\n",
       "       '    158', '    101', '    235', '     88', '    145', '    103',\n",
       "       '    149', '    109', '    131', '     97', '     68', '     84',\n",
       "       '    232', '    125', '    177', '    112', '     96', '     69',\n",
       "       '    171', '    167', '    104', '     76', '     82', '    152',\n",
       "       '     70', '    138', '    169', '     65', '    129', '    190',\n",
       "       '    114', '    111', '    176', '    153', '     89', '    136',\n",
       "       '     83', '    123', '    187', '    106', '    231', '    189',\n",
       "       '    217', '    172', '    199', '    173', '    174', '    209',\n",
       "       '    180', '    178', '     91', '    168', '    130', '    225',\n",
       "       '     67', '     73', '    183', '     74', '    206', '     71',\n",
       "       '    179', '    184', '    192', '     90', '    194', '    182',\n",
       "       '    188', '    213', '    185', '    195', '    186', '    207',\n",
       "       '    208', '     75', '    175', '    201', '    203', '    212',\n",
       "       '    215', '    170', '    228', '    214', '    202', '    196',\n",
       "       '    181', '    211', '    191', '    205', '    200', '    227',\n",
       "       '    218', '    219', '    226', '    224', '    210', '    242',\n",
       "       '    223', '    237', '    204', '    233', '    220', '    222',\n",
       "       '    241', '    197', '    221', '    229', '    234', '    240',\n",
       "       '    243', '    230', '    238', '    246', '    236', '    244',\n",
       "       '    239', '    245', '-999999', 105, 81, 93, 30, 79, 69, 104, 18,\n",
       "       35, 7, 103, 34, 87, 95, 100, 102, 8, 36, 14, 94, 86, 26, 32, 42,\n",
       "       96, 22, 10, 72, 83, 54, 20, 62, 59, 9, 61, 12, 80, 98, 92, 33, 63,\n",
       "       78, 88, 77, 57, 11, 84, 101, 68, 40, 99, 55, 82, 19, 97, 15, 76,\n",
       "       43, 5, 56, 89, 38, 37, 53, 58, 60, 146, 3, 31, 29, 6, 70, 45, 51,\n",
       "       64, 52, 41, 67, 23, 17, 48, 47, 66, 49, 108, 25, 16, 21, 74, 0, 39,\n",
       "       13, 1, 50, 65, 91, 71, 75, 44, 2, 144, 4, 46, 85, 27, 24, 111, 110,\n",
       "       107, 109, 73, 106, 90, 112, 129, 113, 28, 134, 195, 127, 126, 122,\n",
       "       120, 125, 121, 136, 117, 123, 118, 160, 124, 145, 116, 115, 204,\n",
       "       163, 128, 141, 119, 135, 188, 114, 165, 173, 172, 131, 202, 151,\n",
       "       130, 175, 147, 199, 179, 162, 148, 156, 174, 152, 150, 196, 168,\n",
       "       161, 157, 177, 180, 184, 164, 225, 140, 133, 132, 149, 227, 138,\n",
       "       171, 190, 143, 189, 176, 169, 237, 232, 210, 200, 154, 181, 155,\n",
       "       207, 193, 201, 208, 142, 185, 182, 153, 198, 178, 186, 166, 238,\n",
       "       159, 170, 183, 241, 137, 214, 139, 221, 187, 191, 167, 206, 205,\n",
       "       234, 158, 197, 211, 212, 194, 229, 216, 235, -999999, 220, 236,\n",
       "       215, 228, 218, 192, 231, 209, 217, 223, 222, 230, 203, 226, 233,\n",
       "       219, 224, 240, 213, 239, 242, 243, 244, 246, 245, 247, 248, 249,\n",
       "       250, 251, 252, 253, 254, 255, 256], dtype=object)"
      ]
     },
     "execution_count": 20,
     "metadata": {},
     "output_type": "execute_result"
    }
   ],
   "source": [
    "# (9) \"antiguedad\": showing no missing, but actually with NA.\n",
    "# Customer seniority (in months)\n",
    "\n",
    "mydata['antiguedad'].unique()"
   ]
  },
  {
   "cell_type": "code",
   "execution_count": 21,
   "metadata": {},
   "outputs": [],
   "source": [
    "# Notice that the missings are from the same group of new customers, so let's give them minimum seniority.\n",
    "\n",
    "mydata.antiguedad = pd.to_numeric(mydata.antiguedad, errors=\"coerce\")\n",
    "mydata.loc[mydata.antiguedad.isnull(), \"antiguedad\"] = 0\n",
    "mydata.loc[mydata.antiguedad < 0, \"antiguedad\"]      = 0"
   ]
  },
  {
   "cell_type": "code",
   "execution_count": 22,
   "metadata": {},
   "outputs": [
    {
     "name": "stdout",
     "output_type": "stream",
     "text": [
      "[ 1. nan 99.]\n"
     ]
    },
    {
     "data": {
      "text/plain": [
       "array([ 1.,  2., 99.])"
      ]
     },
     "execution_count": 22,
     "metadata": {},
     "output_type": "execute_result"
    }
   ],
   "source": [
    "# (10) \"indrel\": 0.203220 missing.\n",
    "# 1 (First/Primary), 99 (Primary customer during the month but not at the end of the month)\n",
    "# Fill in missing with another different type.\n",
    "\n",
    "print(mydata['indrel'].unique())\\\n",
    "\n",
    "mydata['indrel'].fillna(2., inplace=True)\n",
    "mydata['indrel'].unique()"
   ]
  },
  {
   "cell_type": "code",
   "execution_count": 23,
   "metadata": {},
   "outputs": [],
   "source": [
    "# (11) \"ult_fec_cli_1t\": 99.818330 missing.\n",
    "# Last date as primary customer (if he isn't at the end of the month).\n",
    "# For now, we do little with variable in the form of date.\n",
    "# Since there are majority of missings here, we also consider not to use this column."
   ]
  },
  {
   "cell_type": "code",
   "execution_count": 24,
   "metadata": {},
   "outputs": [
    {
     "data": {
      "text/plain": [
       "array([1.0, nan, 3.0, 2.0, '1.0', '1', '3', '3.0', '2.0', '4.0', 'P', '4',\n",
       "       4.0, '2'], dtype=object)"
      ]
     },
     "execution_count": 24,
     "metadata": {},
     "output_type": "execute_result"
    }
   ],
   "source": [
    "# (12) \"indrel_1mes\": 1.097513 missing.\n",
    "# Customer type at the beginning of the month, 1 (First/Primary customer), 2 (co-owner ),P (Potential),3 (former primary), 4 (former co-owner).\n",
    "# Fill in missing with another different type.\n",
    "\n",
    "mydata['indrel_1mes'].unique()"
   ]
  },
  {
   "cell_type": "code",
   "execution_count": 25,
   "metadata": {},
   "outputs": [
    {
     "data": {
      "text/plain": [
       "array(['A', 'I', nan, 'P', 'R', 'N'], dtype=object)"
      ]
     },
     "execution_count": 25,
     "metadata": {},
     "output_type": "execute_result"
    }
   ],
   "source": [
    "# (13) \"tiprel_1mes\": 1.097513 missing.\n",
    "# Customer relation type at the beginning of the month, A (active), I (inactive), P (former customer),R (Potential).\n",
    "# Fill in missing with another different type.\n",
    "\n",
    "mydata['tiprel_1mes'].unique()"
   ]
  },
  {
   "cell_type": "code",
   "execution_count": 26,
   "metadata": {},
   "outputs": [
    {
     "data": {
      "text/plain": [
       "array(['S', nan, 'N'], dtype=object)"
      ]
     },
     "execution_count": 26,
     "metadata": {},
     "output_type": "execute_result"
    }
   ],
   "source": [
    "# (14) \"indresi\": 0.203220 missing.\n",
    "# Residence index (S (Yes) or N (No) if the residence country is the same than the bank country)\n",
    "# Fill in missing with another different type.\n",
    "\n",
    "mydata['indresi'].unique()"
   ]
  },
  {
   "cell_type": "code",
   "execution_count": 27,
   "metadata": {},
   "outputs": [
    {
     "data": {
      "text/plain": [
       "array(['N', 'S', nan], dtype=object)"
      ]
     },
     "execution_count": 27,
     "metadata": {},
     "output_type": "execute_result"
    }
   ],
   "source": [
    "# (15) \"indext\": 0.203220 missing.\n",
    "# Foreigner index (S (Yes) or N (No) if the customer's birth country is different than the bank country).\n",
    "# Fill in missing with another different type.\n",
    "\n",
    "mydata['indext'].unique()"
   ]
  },
  {
   "cell_type": "code",
   "execution_count": 28,
   "metadata": {},
   "outputs": [
    {
     "data": {
      "text/plain": [
       "array([nan, 'N', 'S'], dtype=object)"
      ]
     },
     "execution_count": 28,
     "metadata": {},
     "output_type": "execute_result"
    }
   ],
   "source": [
    "# (16) \"conyuemp\": 99.986752 missing.\n",
    "# Spouse index. 1 if the customer is spouse of an employee.\n",
    "# Fill in missing with another different type.\n",
    "\n",
    "mydata['conyuemp'].unique()"
   ]
  },
  {
   "cell_type": "code",
   "execution_count": 29,
   "metadata": {},
   "outputs": [
    {
     "data": {
      "text/plain": [
       "array(['KHL', 'KHE', 'KHD', 'KFA', 'KFC', 'KAT', nan, 'KAZ', 'RED', 'KHC',\n",
       "       'KHK', 'KGN', 'KHM', 'KHO', 'KDH', 'KEH', 'KAD', 'KBG', 'KGC',\n",
       "       'KHF', 'KFK', 'KHN', 'KHA', 'KAF', 'KGX', 'KFD', 'KAG', 'KFG',\n",
       "       'KAB', 'KCC', 'KAE', 'KAH', 'KAR', 'KFJ', 'KFL', 'KAI', 'KFU',\n",
       "       'KAQ', 'KFS', 'KAA', 'KFP', 'KAJ', 'KFN', 'KGV', 'KGY', 'KFF',\n",
       "       'KAP', 'KDE', 'KFV', '013', 'K00', 'KAK', 'KCK', 'KCL', 'KAY',\n",
       "       'KBU', 'KDR', 'KAC', 'KDT', 'KCG', 'KDO', 'KDY', 'KBQ', 'KDA',\n",
       "       'KBO', 'KCI', 'KEC', 'KBZ', 'KES', 'KDX', 'KAS', '007', 'KEU',\n",
       "       'KCA', 'KAL', 'KDC', 'KAW', 'KCS', 'KCB', 'KDU', 'KDQ', 'KCN',\n",
       "       'KCM', '004', 'KCH', 'KCD', 'KCE', 'KEV', 'KBL', 'KEA', 'KBH',\n",
       "       'KDV', 'KFT', 'KEY', 'KAO', 'KEJ', 'KEO', 'KEI', 'KEW', 'KDZ',\n",
       "       'KBV', 'KBR', 'KBF', 'KDP', 'KCO', 'KCF', 'KCV', 'KAM', 'KEZ',\n",
       "       'KBD', 'KAN', 'KBY', 'KCT', 'KDD', 'KBW', 'KCU', 'KBX', 'KDB',\n",
       "       'KBS', 'KBE', 'KCX', 'KBP', 'KBN', 'KEB', 'KDS', 'KEL', 'KDG',\n",
       "       'KDF', 'KEF', 'KCP', 'KDM', 'KBB', 'KDW', 'KBJ', 'KFI', 'KBM',\n",
       "       'KEG', 'KEN', 'KEQ', 'KAV', 'KFH', 'KFM', 'KAU', 'KED', 'KFR',\n",
       "       'KEK', 'KFB', 'KGW', 'KFE', 'KGU', 'KDI', 'KDN', 'KEE', 'KCR',\n",
       "       'KCQ', 'KEM', 'KCJ', 'KHQ', 'KDL', '025', 'KHP', 'KHR', 'KHS'],\n",
       "      dtype=object)"
      ]
     },
     "execution_count": 29,
     "metadata": {},
     "output_type": "execute_result"
    }
   ],
   "source": [
    "# (17) \"canal_entrada\": 1.363829 missing.\n",
    "# Channel used by the customer to join.\n",
    "# Fill in missing with another different type.\n",
    "\n",
    "mydata['canal_entrada'].unique()"
   ]
  },
  {
   "cell_type": "code",
   "execution_count": 30,
   "metadata": {},
   "outputs": [
    {
     "data": {
      "text/plain": [
       "array(['N', nan, 'S'], dtype=object)"
      ]
     },
     "execution_count": 30,
     "metadata": {},
     "output_type": "execute_result"
    }
   ],
   "source": [
    "# (18) \"indfall\": 0.203220 missing.\n",
    "# Deceased index. N/S.\n",
    "# Fill in missing with another different type.\n",
    "\n",
    "mydata['indfall'].unique()"
   ]
  },
  {
   "cell_type": "code",
   "execution_count": 31,
   "metadata": {},
   "outputs": [
    {
     "data": {
      "text/plain": [
       "array([ 1., nan])"
      ]
     },
     "execution_count": 31,
     "metadata": {},
     "output_type": "execute_result"
    }
   ],
   "source": [
    "# (19) \"tipodom\":0.203227 missing.\n",
    "# Address type. 1, primary address. We delete this variable since all of them are 1 (or missing).\n",
    "\n",
    "mydata['tipodom'].unique()"
   ]
  },
  {
   "cell_type": "code",
   "execution_count": 32,
   "metadata": {},
   "outputs": [
    {
     "data": {
      "text/plain": [
       "array([29., 13., 50., 45., 24., 20., 10., 17., 49.,  8., 37.,  9., 22.,\n",
       "       31.,  5., 40., 27., 25., 28.,  3., 42., 41., 39.,  7., 47., 36.,\n",
       "       46., 44., 15., 32., 23., 16., 48., 12., 26.,  2.,  6., 30., 11.,\n",
       "       nan,  4., 19., 34., 35., 14., 21., 18., 33., 38., 52., 43.,  1.,\n",
       "       51.])"
      ]
     },
     "execution_count": 32,
     "metadata": {},
     "output_type": "execute_result"
    }
   ],
   "source": [
    "# (20) \"cod_prov\": 0.685784 missing.\n",
    "# Province code (customer's address).\n",
    "# Fill in missing with another different type.\n",
    "\n",
    "mydata['cod_prov'].unique()"
   ]
  },
  {
   "cell_type": "code",
   "execution_count": 33,
   "metadata": {},
   "outputs": [
    {
     "data": {
      "text/plain": [
       "28.0    0.325342\n",
       "8.0     0.094086\n",
       "46.0    0.050341\n",
       "41.0    0.044649\n",
       "15.0    0.031676\n",
       "Name: cod_prov, dtype: float64"
      ]
     },
     "execution_count": 33,
     "metadata": {},
     "output_type": "execute_result"
    }
   ],
   "source": [
    "mydata['cod_prov'].value_counts(normalize=True).head(5)"
   ]
  },
  {
   "cell_type": "code",
   "execution_count": 34,
   "metadata": {
    "scrolled": true
   },
   "outputs": [
    {
     "data": {
      "text/plain": [
       "array(['MALAGA', 'CIUDAD REAL', 'ZARAGOZA', 'TOLEDO', 'LEON', 'GIPUZKOA',\n",
       "       'CACERES', 'GIRONA', 'ZAMORA', 'BARCELONA', 'SALAMANCA', 'BURGOS',\n",
       "       'HUESCA', 'NAVARRA', 'AVILA', 'SEGOVIA', 'LUGO', 'LERIDA',\n",
       "       'MADRID', 'ALICANTE', 'SORIA', 'SEVILLA', 'CANTABRIA',\n",
       "       'BALEARS, ILLES', 'VALLADOLID', 'PONTEVEDRA', 'VALENCIA', 'TERUEL',\n",
       "       'CORUÑA, A', 'OURENSE', 'JAEN', 'CUENCA', 'BIZKAIA', 'CASTELLON',\n",
       "       'RIOJA, LA', 'ALBACETE', 'BADAJOZ', 'MURCIA', 'CADIZ', nan,\n",
       "       'ALMERIA', 'GUADALAJARA', 'PALENCIA', 'PALMAS, LAS', 'CORDOBA',\n",
       "       'HUELVA', 'GRANADA', 'ASTURIAS', 'SANTA CRUZ DE TENERIFE',\n",
       "       'MELILLA', 'TARRAGONA', 'ALAVA', 'CEUTA'], dtype=object)"
      ]
     },
     "execution_count": 34,
     "metadata": {},
     "output_type": "execute_result"
    }
   ],
   "source": [
    "# (21) \"nomprov\": 0.685784 missing.\n",
    "# Province name. Ignore this variable, as it is totally the same as 'cod_prov'.\n",
    "\n",
    "mydata['nomprov'].unique()"
   ]
  },
  {
   "cell_type": "code",
   "execution_count": 35,
   "metadata": {},
   "outputs": [
    {
     "data": {
      "text/plain": [
       "MADRID       0.325342\n",
       "BARCELONA    0.094086\n",
       "VALENCIA     0.050341\n",
       "SEVILLA      0.044649\n",
       "CORUÑA, A    0.031676\n",
       "Name: nomprov, dtype: float64"
      ]
     },
     "execution_count": 35,
     "metadata": {},
     "output_type": "execute_result"
    }
   ],
   "source": [
    "mydata['nomprov'].value_counts(normalize=True).head(5)"
   ]
  },
  {
   "cell_type": "code",
   "execution_count": 36,
   "metadata": {},
   "outputs": [
    {
     "name": "stdout",
     "output_type": "stream",
     "text": [
      "[ 1.  0. nan]\n"
     ]
    },
    {
     "data": {
      "text/plain": [
       "array([1., 0.])"
      ]
     },
     "execution_count": 36,
     "metadata": {},
     "output_type": "execute_result"
    }
   ],
   "source": [
    "# (22) \"ind_actividad_cliente\": 0.203220 missing.\n",
    "# Activity index (1, active customer; 0, inactive customer). Two possible imputing ways here (again).\n",
    "\n",
    "print(mydata['ind_actividad_cliente'].unique())\n",
    "\n",
    "mydata['ind_actividad_cliente'].fillna(0., inplace=True)  # Let's say they are new customers and so inactive.\n",
    "mydata['ind_actividad_cliente'].unique()"
   ]
  },
  {
   "cell_type": "code",
   "execution_count": 37,
   "metadata": {},
   "outputs": [
    {
     "data": {
      "text/plain": [
       "2794375"
      ]
     },
     "execution_count": 37,
     "metadata": {},
     "output_type": "execute_result"
    }
   ],
   "source": [
    "# (23) \"renta\": 20.475648 missing.\n",
    "# Gross income of the household. For simplicity, we can impute missing by overall median.\n",
    "# But we can also impute missings by its corresponding province median, which may make more sense.\n",
    "\n",
    "mydata.renta.isnull().sum()"
   ]
  },
  {
   "cell_type": "code",
   "execution_count": 38,
   "metadata": {},
   "outputs": [
    {
     "data": {
      "text/plain": [
       "array(['02 - PARTICULARES', '03 - UNIVERSITARIO', nan, '01 - TOP'],\n",
       "      dtype=object)"
      ]
     },
     "execution_count": 38,
     "metadata": {},
     "output_type": "execute_result"
    }
   ],
   "source": [
    "# (24) \"segmento\": segmentation: 1.387585 missing.\n",
    "# 01 - VIP, 02 - Individuals 03 - college graduated.\n",
    "# Fill in missing with another different type.\n",
    "\n",
    "mydata['segmento'].unique()"
   ]
  },
  {
   "cell_type": "code",
   "execution_count": 39,
   "metadata": {},
   "outputs": [
    {
     "data": {
      "text/plain": [
       "02 - PARTICULARES     0.591489\n",
       "03 - UNIVERSITARIO    0.366741\n",
       "01 - TOP              0.041770\n",
       "Name: segmento, dtype: float64"
      ]
     },
     "execution_count": 39,
     "metadata": {},
     "output_type": "execute_result"
    }
   ],
   "source": [
    "mydata['segmento'].value_counts(normalize=True)"
   ]
  }
 ],
 "metadata": {
  "kernelspec": {
   "display_name": "Python 3",
   "language": "python",
   "name": "python3"
  },
  "language_info": {
   "codemirror_mode": {
    "name": "ipython",
    "version": 3
   },
   "file_extension": ".py",
   "mimetype": "text/x-python",
   "name": "python",
   "nbconvert_exporter": "python",
   "pygments_lexer": "ipython3",
   "version": "3.7.3"
  }
 },
 "nbformat": 4,
 "nbformat_minor": 2
}
